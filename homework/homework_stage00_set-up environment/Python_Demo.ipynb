{
 "cells": [
  {
   "cell_type": "code",
   "execution_count": 2,
   "id": "a3d420c8-0d31-45f5-a807-d2df0029693c",
   "metadata": {},
   "outputs": [],
   "source": [
    "#Repo skeleton Demo - run locally to scaffold your project\n",
    "\n",
    "import os, textwrap, pathlib\n",
    "\n",
    "REPO_NAME = \"azfina_project\" #change as desired\n",
    "FOLDERS = [\"data\", \"src\", \"notebooks\", \"docs\"]\n",
    "\n",
    "base = pathlib.Path.cwd() / REPO_NAME\n",
    "base.mkdir(exist_ok=True)\n",
    "\n",
    "\n"
   ]
  }
 ],
 "metadata": {
  "kernelspec": {
   "display_name": "base",
   "language": "python",
   "name": "python3"
  },
  "language_info": {
   "codemirror_mode": {
    "name": "ipython",
    "version": 3
   },
   "file_extension": ".py",
   "mimetype": "text/x-python",
   "name": "python",
   "nbconvert_exporter": "python",
   "pygments_lexer": "ipython3",
   "version": "3.13.5"
  }
 },
 "nbformat": 4,
 "nbformat_minor": 5
}
