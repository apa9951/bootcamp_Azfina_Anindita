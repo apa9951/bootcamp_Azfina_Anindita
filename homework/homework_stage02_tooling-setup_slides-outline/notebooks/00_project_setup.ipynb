{
 "cells": [
  {
   "cell_type": "code",
   "execution_count": null,
   "id": "ac25f52a-6f5b-4822-8f97-24f937b21534",
   "metadata": {},
   "outputs": [],
   "source": [
    "# Environment & Config Check"
   ]
  },
  {
   "cell_type": "code",
   "execution_count": null,
   "id": "87817ea8-773d-4369-80e6-1795238c5d96",
   "metadata": {},
   "outputs": [
    {
     "name": "stdout",
     "output_type": "stream",
     "text": [
      "API_KEY exists: False\n",
      "Numpy OK; sample op:\n",
      " [[1 2 3]\n",
      " [4 5 6]]\n",
      "DATA_DIR resolves to: /Users/azfina/Documents/bootcamp_Azfina_Anindita/homework/homework_stage2/notebooks/data\n"
     ]
    }
   ],
   "source": [
    "import sys\n",
    "from pathlib import Path\n",
    "\n",
    "# Add project root to Python path\n",
    "root_dir = Path(__file__).resolve().parents[1] if \"__file__\" in globals() else Path.cwd().parents[0]\n",
    "sys.path.append(str(root_dir / \"src\"))\n",
    "\n",
    "from config import load_env, get_key, data_dir\n",
    " \n",
    " \n",
    "load_env()  # loads .env\n",
    "print(\"API_KEY exists:\", get_key(\"API_KEY\", required=False) is not None)\n",
    "\n",
    "import numpy as np\n",
    "arr = np.arange(6).reshape(2, 3)\n",
    "print(\"Numpy OK; sample op:\\n\", arr + 1)\n",
    "\n",
    "print(\"DATA_DIR resolves to:\", data_dir())"
   ]
  },
  {
   "cell_type": "code",
   "execution_count": null,
   "id": "40bceac4-f8f9-4bd7-9e36-c436be8d0c72",
   "metadata": {},
   "outputs": [],
   "source": []
  },
  {
   "cell_type": "code",
   "execution_count": null,
   "id": "f9bdc4fa-b6c8-491a-b388-9cd66692f98a",
   "metadata": {},
   "outputs": [],
   "source": []
  }
 ],
 "metadata": {
  "kernelspec": {
   "display_name": "Python 3 (ipykernel)",
   "language": "python",
   "name": "python3"
  },
  "language_info": {
   "codemirror_mode": {
    "name": "ipython",
    "version": 3
   },
   "file_extension": ".py",
   "mimetype": "text/x-python",
   "name": "python",
   "nbconvert_exporter": "python",
   "pygments_lexer": "ipython3",
   "version": "3.13.5"
  }
 },
 "nbformat": 4,
 "nbformat_minor": 5
}
