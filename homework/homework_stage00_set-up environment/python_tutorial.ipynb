{
 "cells": [
  {
   "cell_type": "code",
   "execution_count": null,
   "id": "4fbb3695-111f-4c64-b248-7505e99a2008",
   "metadata": {
    "scrolled": true
   },
   "outputs": [
    {
     "name": "stdout",
     "output_type": "stream",
     "text": [
      "Hello, Bootcamp!\n"
     ]
    }
   ],
   "source": [
    "print(\"Hello, Bootcamp!\")"
   ]
  },
  {
   "cell_type": "code",
   "execution_count": null,
   "id": "570f40b6-dda4-4474-b89c-14454ef1cc0b",
   "metadata": {},
   "outputs": [],
   "source": []
  },
  {
   "cell_type": "code",
   "execution_count": null,
   "id": "12d59394-9498-4b12-b710-d69fce2a76d0",
   "metadata": {},
   "outputs": [
    {
     "name": "stdout",
     "output_type": "stream",
     "text": [
      "Array [1 2 3 4 5]\n",
      "Mean 3.0\n",
      "Vectorized * 10: [10 20 30 40 50]\n"
     ]
    }
   ],
   "source": [
    "import numpy as np\n",
    "arr = np.array ([1,2,3,4,5])\n",
    "print (\"Array\", arr)\n",
    "print (\"Mean\", arr.mean())\n",
    "print (\"Vectorized * 10:\", arr *10)"
   ]
  },
  {
   "cell_type": "code",
   "execution_count": null,
   "id": "4b80d108-8a4a-4b37-bb31-9c5a526031f9",
   "metadata": {},
   "outputs": [
    {
     "name": "stdout",
     "output_type": "stream",
     "text": [
      "Imports OK\n"
     ]
    }
   ],
   "source": [
    "try:\n",
    "    import numpy as np\n",
    "    from dotenv import load_dotenv\n",
    "    print (\"Imports OK\")\n",
    "    #from fun import t\n",
    "\n",
    "except Exception as e:\n",
    "    print (\"Import Error:\", e)\n",
    "    raise"
   ]
  },
  {
   "cell_type": "code",
   "execution_count": null,
   "id": "13f2c928-8f6c-40e7-a3e7-fdd16f4262a0",
   "metadata": {},
   "outputs": [
    {
     "name": "stdout",
     "output_type": "stream",
     "text": [
      "env loaded (if present)\n"
     ]
    }
   ],
   "source": [
    "from pathlib import Path\n",
    "load_dotenv() #looks for a .env file in the current and parent directories\n",
    "print (\"env loaded (if present)\")"
   ]
  },
  {
   "cell_type": "code",
   "execution_count": null,
   "id": "71425a76-d173-4808-b990-ac30325ff5a7",
   "metadata": {},
   "outputs": [
    {
     "name": "stdout",
     "output_type": "stream",
     "text": [
      "PROJECT_ROOT: /Users/azfina/bootcamp_Azfina_Anindita\n",
      "DATA_DIR: /Users/azfina/bootcamp_Azfina_Anindita\n"
     ]
    }
   ],
   "source": [
    "#scr config.py (inline demo)\n",
    "from typing import Optional\n",
    "\n",
    "def get_key(name, default):\n",
    "    return os.getenv(name, default)\n",
    "\n",
    "PROJECT_ROOT = Path.cwd()\n",
    "DATA_DIR = PROJECT_ROOT\n",
    "print (\"PROJECT_ROOT:\", PROJECT_ROOT)\n",
    "print (\"DATA_DIR:\", DATA_DIR)"
   ]
  }
 ],
 "metadata": {
  "kernelspec": {
   "display_name": "Python 3 (ipykernel)",
   "language": "python",
   "name": "python3"
  },
  "language_info": {
   "codemirror_mode": {
    "name": "ipython",
    "version": 3
   },
   "file_extension": ".py",
   "mimetype": "text/x-python",
   "name": "python",
   "nbconvert_exporter": "python",
   "pygments_lexer": "ipython3",
   "version": "3.10.18"
  }
 },
 "nbformat": 4,
 "nbformat_minor": 5
}
