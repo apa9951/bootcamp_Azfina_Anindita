{
 "cells": [
  {
   "cell_type": "markdown",
   "id": "80ff0f15",
   "metadata": {},
   "source": [
    "## Student Homework Sheet — Stage 05: Data Storage\n",
    "\n",
    "In the lecture, we learned how to save/load CSV and Parquet with environment-driven paths, organize\n",
    "data/raw/ vs data/processed/, and document storage choices.\n",
    "Now, you will adapt these patterns to implement a reproducible storage layer for one dataset."
   ]
  },
  {
   "cell_type": "code",
   "execution_count": 1,
   "id": "0cc0c0ba",
   "metadata": {},
   "outputs": [],
   "source": [
    "#import \n",
    "\n",
    "import os, pathlib, datetime as dt\n",
    "import pandas as pd\n",
    "from dotenv import load_dotenv\n",
    "import numpy as np"
   ]
  },
  {
   "cell_type": "code",
   "execution_count": 2,
   "id": "5fa054a1",
   "metadata": {},
   "outputs": [
    {
     "data": {
      "text/html": [
       "<div>\n",
       "<style scoped>\n",
       "    .dataframe tbody tr th:only-of-type {\n",
       "        vertical-align: middle;\n",
       "    }\n",
       "\n",
       "    .dataframe tbody tr th {\n",
       "        vertical-align: top;\n",
       "    }\n",
       "\n",
       "    .dataframe thead th {\n",
       "        text-align: right;\n",
       "    }\n",
       "</style>\n",
       "<table border=\"1\" class=\"dataframe\">\n",
       "  <thead>\n",
       "    <tr style=\"text-align: right;\">\n",
       "      <th></th>\n",
       "      <th>date</th>\n",
       "      <th>ticker</th>\n",
       "      <th>price</th>\n",
       "    </tr>\n",
       "  </thead>\n",
       "  <tbody>\n",
       "    <tr>\n",
       "      <th>0</th>\n",
       "      <td>2024-01-01</td>\n",
       "      <td>AAPL</td>\n",
       "      <td>150.008515</td>\n",
       "    </tr>\n",
       "    <tr>\n",
       "      <th>1</th>\n",
       "      <td>2024-01-02</td>\n",
       "      <td>AAPL</td>\n",
       "      <td>147.311955</td>\n",
       "    </tr>\n",
       "    <tr>\n",
       "      <th>2</th>\n",
       "      <td>2024-01-03</td>\n",
       "      <td>AAPL</td>\n",
       "      <td>146.960687</td>\n",
       "    </tr>\n",
       "    <tr>\n",
       "      <th>3</th>\n",
       "      <td>2024-01-04</td>\n",
       "      <td>AAPL</td>\n",
       "      <td>146.144038</td>\n",
       "    </tr>\n",
       "    <tr>\n",
       "      <th>4</th>\n",
       "      <td>2024-01-05</td>\n",
       "      <td>AAPL</td>\n",
       "      <td>147.797597</td>\n",
       "    </tr>\n",
       "  </tbody>\n",
       "</table>\n",
       "</div>"
      ],
      "text/plain": [
       "        date ticker       price\n",
       "0 2024-01-01   AAPL  150.008515\n",
       "1 2024-01-02   AAPL  147.311955\n",
       "2 2024-01-03   AAPL  146.960687\n",
       "3 2024-01-04   AAPL  146.144038\n",
       "4 2024-01-05   AAPL  147.797597"
      ]
     },
     "execution_count": 2,
     "metadata": {},
     "output_type": "execute_result"
    }
   ],
   "source": [
    "#Load DataFrame using provided starter\n",
    "dates = pd.date_range('2024-01-01', periods=20, freq='D')\n",
    "df = pd.DataFrame({'date': dates, 'ticker': ['AAPL']*20, 'price': 150 + np.random.randn(20).cumsum()})\n",
    "df.head()"
   ]
  },
  {
   "cell_type": "code",
   "execution_count": 3,
   "id": "0384037f",
   "metadata": {},
   "outputs": [],
   "source": [
    "\n",
    "import pandas as pd\n",
    "\n",
    "#Save to data/raw/ as CSV and to data/processed/ as Parquet.\n",
    "df.to_csv(\"data/raw/AAPL.csv\", index=False)\n",
    "df.to_parquet('data/processed/AAPL.parquet', engine='fastparquet', index=False)\n",
    "\n",
    "# Load variables from .env\n",
    "# load_dotenv()\n",
    "\n",
    "# DATA_DIR_RAW = os.getenv(\"DATA_DIR_RAW\")\n",
    "# DATA_DIR_PROCESSED = os.getenv(\"DATA_DIR_PROCESSED\")\n",
    "\n",
    "# # Use them in write_df\n",
    "# write_df(df, os.path.join(DATA_DIR_RAW, \"AAPL.csv\"))\n",
    "# write_df(df, os.path.join(DATA_DIR_PROCESSED, \"AAPL.parquet\"))\n",
    "\n",
    "# for col in df.columns:\n",
    "#     if isinstance(df[col].dtype, pd.PeriodDtype):\n",
    "#         df[col] = df[col].astype(str)\n"
   ]
  },
  {
   "cell_type": "code",
   "execution_count": 4,
   "id": "d97d6f55",
   "metadata": {},
   "outputs": [
    {
     "name": "stdout",
     "output_type": "stream",
     "text": [
      "✅ DataFrames match in shape and dtypes.\n"
     ]
    },
    {
     "data": {
      "text/plain": [
       "True"
      ]
     },
     "execution_count": 4,
     "metadata": {},
     "output_type": "execute_result"
    }
   ],
   "source": [
    "#Reload both files.\n",
    "import pandas as pd\n",
    "import numpy as np\n",
    "\n",
    "# --- 1. Create sample DataFrame ---\n",
    "dates = pd.date_range(\"2024-01-01\", periods=20, freq=\"D\")\n",
    "df = pd.DataFrame({\n",
    "    \"date\": dates,\n",
    "    \"ticker\": [\"AAPL\"] * 20,\n",
    "    \"price\": 150 + np.random.randn(20).cumsum()\n",
    "})\n",
    "\n",
    "# --- 2. Save CSV & Parquet (avoid pyarrow bug by using fastparquet) ---\n",
    "df.to_csv(\"data/raw/AAPL.csv\", index=False)\n",
    "df.to_parquet(\"data/processed/AAPL.parquet\", index=False, engine=\"fastparquet\")\n",
    "\n",
    "# --- 3. Reload both files ---\n",
    "df_raw = pd.read_csv(\"data/raw/AAPL.csv\", parse_dates=[\"date\"])\n",
    "df_processed = pd.read_parquet(\"data/processed/AAPL.parquet\", engine=\"fastparquet\")\n",
    "\n",
    "# --- 4. Align dtypes before validation ---\n",
    "df_raw = df_raw.astype(df_processed.dtypes.to_dict())\n",
    "\n",
    "# --- 5. Validation function ---\n",
    "def validate_dataframes(df1, df2):\n",
    "    if df1.shape != df2.shape:\n",
    "        print(\"❌ Shapes differ:\")\n",
    "        print(f\" - df1: {df1.shape}\")\n",
    "        print(f\" - df2: {df2.shape}\")\n",
    "        return False\n",
    "    if not df1.dtypes.equals(df2.dtypes):\n",
    "        print(\"❌ Dtypes differ:\")\n",
    "        print(f\" - df1: {df1.dtypes}\")\n",
    "        print(f\" - df2: {df2.dtypes}\")\n",
    "        return False\n",
    "    print(\"✅ DataFrames match in shape and dtypes.\")\n",
    "    return True\n",
    "\n",
    "# --- 6. Run validation ---\n",
    "validate_dataframes(df_raw, df_processed)\n"
   ]
  },
  {
   "cell_type": "code",
   "execution_count": 5,
   "id": "0edaa801",
   "metadata": {},
   "outputs": [],
   "source": [
    "#Implement write_df and read_df that route by file suffix (csv/parquet).\n",
    "#Handle missing directories and missing Parquet engine with a clear message.\n",
    "\n",
    "import os\n",
    "import pandas as pd\n",
    "\n",
    "def write_df(df, path):\n",
    "    os.makedirs(os.path.dirname(path), exist_ok=True)\n",
    "    ext = os.path.splitext(path)[1].lower()\n",
    "\n",
    "    # Fix: convert Period columns to strings\n",
    "    for col in df.select_dtypes(include=[\"period\"]).columns:\n",
    "        df[col] = df[col].astype(str)\n",
    "\n",
    "    if ext == \".csv\":\n",
    "        df.to_csv(path, index=False)\n",
    "\n",
    "    elif ext == \".parquet\":\n",
    "        try:\n",
    "            df.to_parquet(path, index=False, engine=\"pyarrow\")\n",
    "        except Exception as e:\n",
    "            print(f\"⚠ pyarrow failed ({e}), trying fastparquet...\")\n",
    "            try:\n",
    "                df.to_parquet(path, index=False, engine=\"fastparquet\")\n",
    "            except ImportError:\n",
    "                raise ImportError(\n",
    "                    \"Neither pyarrow nor fastparquet is available. \"\n",
    "                    \"Install one with: pip install pyarrow OR pip install fastparquet\"\n",
    "                )\n",
    "    else:\n",
    "        raise ValueError(f\"Unsupported file extension: {ext}\")\n",
    "\n",
    "\n",
    "def read_df(path):\n",
    "    ext = os.path.splitext(path)[1].lower()\n",
    "\n",
    "    if ext == \".csv\":\n",
    "        return pd.read_csv(path)\n",
    "    elif ext == \".parquet\":\n",
    "        try:\n",
    "            return pd.read_parquet(path, engine=\"pyarrow\")\n",
    "        except Exception as e:\n",
    "            print(f\"⚠ pyarrow failed ({e}), trying fastparquet...\")\n",
    "            return pd.read_parquet(path, engine=\"fastparquet\")\n",
    "    else:\n",
    "        raise ValueError(f\"Unsupported file extension: {ext}\")\n"
   ]
  }
 ],
 "metadata": {
  "kernelspec": {
   "display_name": "base",
   "language": "python",
   "name": "python3"
  },
  "language_info": {
   "codemirror_mode": {
    "name": "ipython",
    "version": 3
   },
   "file_extension": ".py",
   "mimetype": "text/x-python",
   "name": "python",
   "nbconvert_exporter": "python",
   "pygments_lexer": "ipython3",
   "version": "3.13.5"
  }
 },
 "nbformat": 4,
 "nbformat_minor": 5
}
