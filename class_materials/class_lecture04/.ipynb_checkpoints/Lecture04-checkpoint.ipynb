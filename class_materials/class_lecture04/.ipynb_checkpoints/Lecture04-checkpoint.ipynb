{
 "cells": [
  {
   "cell_type": "markdown",
   "id": "54fdcc0a-e9d3-47eb-b7e9-7569c9363346",
   "metadata": {},
   "source": [
    "# Stage 04 - Data Acquisition and Ingestion\n",
    "## Lecture 04\n",
    "API Pull, Scraping, dll"
   ]
  },
  {
   "cell_type": "code",
   "execution_count": 40,
   "id": "4fbb3695-111f-4c64-b248-7505e99a2008",
   "metadata": {
    "scrolled": true
   },
   "outputs": [
    {
     "name": "stdout",
     "output_type": "stream",
     "text": [
      "Loaded APLHAVANTAGE_API_KEY? True\n",
      "your_real_api_key_here\n"
     ]
    }
   ],
   "source": [
    "import os, json, time, datetime as dt, csv, pathlib\n",
    "from typing import Dict, List\n",
    "import requests\n",
    "import pandas as pd\n",
    "from bs4 import BeautifulSoup\n",
    "from dotenv import load_dotenv\n",
    "\n",
    "#pathlib = library utk pilih direktori folder\n",
    "DATA_RAW = pathlib.Path(\"data/raw\")\n",
    "\n",
    "#mkdir untuk bikin folder\n",
    "DATA_RAW.mkdir(parents=True, exist_ok= True)\n",
    "\n",
    "load_dotenv()\n",
    "ALPHA_KEY = os.getenv(\"ALPHAVANTAGE_API_KEY\")\n",
    "print(\"Loaded APLHAVANTAGE_API_KEY?\", bool(ALPHA_KEY))\n",
    "\n",
    "#print isi API nya\n",
    "print(ALPHA_KEY)"
   ]
  },
  {
   "cell_type": "code",
   "execution_count": 38,
   "id": "eaf48987-9b35-4a75-aaa3-5ccb1aca5f2f",
   "metadata": {},
   "outputs": [
    {
     "name": "stdout",
     "output_type": "stream",
     "text": [
      "Current working dir: /Users/azfina/Documents/bootcamp_Azfina_Anindita/homework/Lecture04\n",
      "Files here: ['.DS_Store', '.env.txt', '.env', '.ipynb_checkpoints', 'Lecture04.ipynb', 'data']\n",
      "ALPHAVANTAGE_API_KEY: your_real_api_key_here\n"
     ]
    }
   ],
   "source": [
    "from dotenv import load_dotenv\n",
    "import os\n",
    "\n",
    "# 1. Load .env explicitly (you can remove dotenv_path if .env is in same folder)\n",
    "load_dotenv(dotenv_path=\".env\")\n",
    "\n",
    "# 2. See what files are in the current working directory\n",
    "print(\"Current working dir:\", os.getcwd())\n",
    "print(\"Files here:\", os.listdir())\n",
    "\n",
    "# 3. Try to read the key\n",
    "print(\"ALPHAVANTAGE_API_KEY:\", os.getenv(\"ALPHAVANTAGE_API_KEY\"))"
   ]
  },
  {
   "cell_type": "markdown",
   "id": "a17b6037-0d02-4083-a318-58b3d2d60b4d",
   "metadata": {},
   "source": [
    "# Helper Functions: Validation & Filenames"
   ]
  },
  {
   "cell_type": "code",
   "execution_count": 61,
   "id": "4106db35-1798-43aa-98f9-0791519c4a7e",
   "metadata": {},
   "outputs": [],
   "source": [
    "def safe_stamp():\n",
    "    return dt.datetime.now().strftime(\"%Y%m%d-%H%M%S\")"
   ]
  },
  {
   "cell_type": "code",
   "execution_count": 62,
   "id": "30bff27a-6c5a-4079-aa72-df2fcb647adf",
   "metadata": {},
   "outputs": [
    {
     "data": {
      "text/plain": [
       "'20250815-101147'"
      ]
     },
     "execution_count": 62,
     "metadata": {},
     "output_type": "execute_result"
    }
   ],
   "source": [
    "safe_stamp()"
   ]
  },
  {
   "cell_type": "code",
   "execution_count": 63,
   "id": "1d9f3c3e-7683-427d-82b2-a2184fdc8dee",
   "metadata": {},
   "outputs": [
    {
     "data": {
      "text/plain": [
       "'25-08-15'"
      ]
     },
     "execution_count": 63,
     "metadata": {},
     "output_type": "execute_result"
    }
   ],
   "source": [
    "dt.datetime.now().strftime(\"%y-%m-%d\")"
   ]
  },
  {
   "cell_type": "code",
   "execution_count": 64,
   "id": "9c8d88ae-e3fa-4dfd-a808-cf5ea13c0c3a",
   "metadata": {},
   "outputs": [],
   "source": [
    "def save_filename(prefix: str, meta:Dict [str, str]) -> str:\n",
    "    mid = \"_\".join([f\"{k}--{str(v).replace(' ', '_')[:20]}\" for k, v, in meta.items()])\n",
    "    return f\"{prefix}_{mid}_{safe_stamp()}.csv\""
   ]
  },
  {
   "cell_type": "code",
   "execution_count": 65,
   "id": "77828c62-36f4-42ff-993d-6e7cba0cd4da",
   "metadata": {},
   "outputs": [
    {
     "data": {
      "text/plain": [
       "'wiki_param1--1_param2--2_20250815-101149.csv'"
      ]
     },
     "execution_count": 65,
     "metadata": {},
     "output_type": "execute_result"
    }
   ],
   "source": [
    "save_filename (\"wiki\",{\"param1\":1,\"param2\":2})"
   ]
  },
  {
   "cell_type": "code",
   "execution_count": 75,
   "id": "61c3097f-3bb3-4ccb-961e-7bed5ea9f279",
   "metadata": {},
   "outputs": [
    {
     "name": "stdout",
     "output_type": "stream",
     "text": [
      "finish\n"
     ]
    }
   ],
   "source": [
    "\n",
    "def validate_df(df: pd.DataFrame, required_cols: List[str], dtypes_map: Dict[str, str]) -> Dict[str, str]:\n",
    "    msgs = {}\n",
    "    \n",
    "    # Check for missing columns\n",
    "    missing = [c for c in required_cols if c not in df.columns]\n",
    "    if missing:\n",
    "        msgs['missing_cols'] = f\"Missing columns: {missing}\"\n",
    "    \n",
    "    # Check column data types\n",
    "    for col, dtype in dtypes_map.items():\n",
    "        if col in df.columns:\n",
    "            try:\n",
    "                if dtype == 'datetime64[ns]':\n",
    "                    pd.to_datetime(df[col])\n",
    "                elif dtype == 'float':\n",
    "                    pd.to_numeric(df[col])\n",
    "            except Exception as e:\n",
    "                msgs[f'dtype_{col}'] = f\"Failed to coerce {col} to {dtype}: {e}\"\n",
    "    \n",
    "    # Count total NA values\n",
    "    na_counts = df.isna().sum().sum()\n",
    "    msgs['na_total'] = f\"Total NA values: {na_counts}\"\n",
    "    \n",
    "    return msgs\n",
    "\n",
    "print(\"finish\")\n"
   ]
  },
  {
   "cell_type": "code",
   "execution_count": 81,
   "id": "16009636-31ff-4bbd-a3c0-ed52d1d07dd7",
   "metadata": {},
   "outputs": [
    {
     "data": {
      "text/plain": [
       "['te', 'hu']"
      ]
     },
     "execution_count": 81,
     "metadata": {},
     "output_type": "execute_result"
    }
   ],
   "source": [
    "numbered_list=[]\n",
    "for idx, i in enumerate([\"temperature\",\"humidity\"]):\n",
    "    numbered_list += [str(idx+1)+\". \"+str(i)]\n",
    "\n",
    "numbered_list\n",
    "\n",
    "#[str(idx+1)+\". \"+str(i) for idx, i in enumerate ([\"temperature\",\"humidity\"])\n",
    "\n",
    "[i[:2] for i in [\"temperature\",\"humidity\"]]"
   ]
  },
  {
   "cell_type": "code",
   "execution_count": null,
   "id": "16b8ba8e-06a9-4c17-8495-4eebce04584f",
   "metadata": {},
   "outputs": [],
   "source": []
  },
  {
   "cell_type": "code",
   "execution_count": null,
   "id": "0642892a-e0af-464a-a038-da8c968f991d",
   "metadata": {},
   "outputs": [],
   "source": []
  }
 ],
 "metadata": {
  "kernelspec": {
   "display_name": "Python 3 (ipykernel)",
   "language": "python",
   "name": "python3"
  },
  "language_info": {
   "codemirror_mode": {
    "name": "ipython",
    "version": 3
   },
   "file_extension": ".py",
   "mimetype": "text/x-python",
   "name": "python",
   "nbconvert_exporter": "python",
   "pygments_lexer": "ipython3",
   "version": "3.13.5"
  }
 },
 "nbformat": 4,
 "nbformat_minor": 5
}
